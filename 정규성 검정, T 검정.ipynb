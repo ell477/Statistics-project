{
 "cells": [
  {
   "cell_type": "code",
   "execution_count": 2,
   "metadata": {},
   "outputs": [
    {
     "name": "stdout",
     "output_type": "stream",
     "text": [
      "Collecting package metadata (current_repodata.json): - DEBUG:urllib3.connectionpool:Starting new HTTPS connection (1): repo.anaconda.com:443\n",
      "DEBUG:urllib3.connectionpool:Starting new HTTPS connection (1): repo.anaconda.com:443\n",
      "DEBUG:urllib3.connectionpool:Starting new HTTPS connection (1): repo.anaconda.com:443\n",
      "DEBUG:urllib3.connectionpool:Starting new HTTPS connection (1): repo.anaconda.com:443\n",
      "- DEBUG:urllib3.connectionpool:https://repo.anaconda.com:443 \"GET /pkgs/r/noarch/current_repodata.json HTTP/1.1\" 304 0\n",
      "| DEBUG:urllib3.connectionpool:https://repo.anaconda.com:443 \"GET /pkgs/main/noarch/current_repodata.json HTTP/1.1\" 304 0\n",
      "/ DEBUG:urllib3.connectionpool:https://repo.anaconda.com:443 \"GET /pkgs/main/osx-64/current_repodata.json HTTP/1.1\" 304 0\n",
      "- DEBUG:urllib3.util.retry:Incremented Retry for (url='/pkgs/r/osx-64/current_repodata.json'): Retry(total=2, connect=None, read=None, redirect=None, status=None)\n",
      "WARNING:urllib3.connectionpool:Retrying (Retry(total=2, connect=None, read=None, redirect=None, status=None)) after connection broken by 'ProtocolError('Connection aborted.', ConnectionResetError(54, 'Connection reset by peer'))': /pkgs/r/osx-64/current_repodata.json\n",
      "DEBUG:urllib3.connectionpool:Starting new HTTPS connection (2): repo.anaconda.com:443\n",
      "/ DEBUG:urllib3.connectionpool:https://repo.anaconda.com:443 \"GET /pkgs/r/osx-64/current_repodata.json HTTP/1.1\" 304 0\n",
      "done\n",
      "Solving environment: done\n",
      "\n",
      "\n",
      "==> WARNING: A newer version of conda exists. <==\n",
      "  current version: 23.7.4\n",
      "  latest version: 23.9.0\n",
      "\n",
      "Please update conda by running\n",
      "\n",
      "    $ conda update -n base -c defaults conda\n",
      "\n",
      "Or to minimize the number of packages updated during conda update use\n",
      "\n",
      "     conda install conda=23.9.0\n",
      "\n",
      "\n",
      "\n",
      "# All requested packages already installed.\n",
      "\n",
      "\n",
      "Note: you may need to restart the kernel to use updated packages.\n"
     ]
    }
   ],
   "source": [
    "%conda install matplotlib -y\n",
    "\n",
    "import matplotlib.pyplot as plt\n",
    "import numpy as np"
   ]
  },
  {
   "cell_type": "markdown",
   "metadata": {},
   "source": [
    "# 7회차 과제\n",
    "목표: 정규성 검정 및 T 검정 수행하기.  \n",
    "(수업 자료의 `과제 연계 실습` 참고)"
   ]
  },
  {
   "cell_type": "markdown",
   "metadata": {},
   "source": [
    "## 선택형 문제"
   ]
  },
  {
   "cell_type": "markdown",
   "metadata": {},
   "source": [
    "1. P-value란 귀무 가설을 참으로 가정하고 표본의 결과가 실제로 나타날 확률을 계산한 것이다."
   ]
  },
  {
   "cell_type": "markdown",
   "metadata": {},
   "source": [
    "2. P-value가 낮다는 것은 귀무 가설이 참일 때 지금과 같은 결과가 관측될 확률이 낮다는 것을 의미한다."
   ]
  },
  {
   "cell_type": "markdown",
   "metadata": {},
   "source": [
    "3. P-value가 높으면 귀무 가설은 채택히고 대립 가설은 기각한다."
   ]
  },
  {
   "cell_type": "markdown",
   "metadata": {},
   "source": [
    "## 정규성 검정"
   ]
  },
  {
   "cell_type": "markdown",
   "metadata": {},
   "source": [
    "주어진 분포가 정규 분포를 따르는 모집단으로부터 추출되었는지 올바른 분석법을 사용해 검정하시오."
   ]
  },
  {
   "cell_type": "code",
   "execution_count": 35,
   "metadata": {},
   "outputs": [],
   "source": [
    "#귀무 가설 (H0): 데이터가 정규 분포를 따른다.\n",
    "#대립 가설 (H1): 데이터가 정규 분포를 따르지 않는다."
   ]
  },
  {
   "cell_type": "code",
   "execution_count": 33,
   "metadata": {},
   "outputs": [
    {
     "name": "stdout",
     "output_type": "stream",
     "text": [
      "test statistics: 0.3551686132879055, p-value: 0.0\n"
     ]
    }
   ],
   "source": [
    "from scipy import stats\n",
    "q1 = stats.cauchy().rvs(8000)\n",
    "\n",
    "test_stat, pv = stats.kstest(q1, 'norm', args=(q1.mean(), q1.var() ** 0.5))\n",
    "print(f\"test statistics: {test_stat}, p-value: {pv}\")"
   ]
  },
  {
   "cell_type": "code",
   "execution_count": 44,
   "metadata": {},
   "outputs": [],
   "source": [
    "#데이터가 정규 분포를 따르지 않는다."
   ]
  },
  {
   "cell_type": "markdown",
   "metadata": {},
   "source": [
    "## T 검정"
   ]
  },
  {
   "cell_type": "markdown",
   "metadata": {},
   "source": [
    "주어진 상황에 맞는 적절한 t 검정을 수행하시오."
   ]
  },
  {
   "cell_type": "markdown",
   "metadata": {},
   "source": [
    "### 상황 1. 실험군과 대조군"
   ]
  },
  {
   "cell_type": "markdown",
   "metadata": {},
   "source": [
    "신약의 효과를 확인하기 위해 희귀한 뇌 질환, '웨스트 증후군'을 겪고 있는 100명의 환자를 모집하였다.  \n",
    "연구자는 그 중 50 명에게는 진짜 약을 투여하고 나머지 50 명에게는 위약을 투여한 뒤 차도를 지켜보았다.  \n",
    "주어진 데이터가 각 집단에서 5명의 표본을 추출한 결과라고 할 때, 정말로 이 신약이 효과가 있는지 통계적 방법으로 검정하시오."
   ]
  },
  {
   "cell_type": "code",
   "execution_count": 36,
   "metadata": {},
   "outputs": [],
   "source": [
    "#귀무 가설 (H0): 두 집단의 효과가 비슷하다.\n",
    "#대립 가설 (H1): 두 집단의 효과가 다르다."
   ]
  },
  {
   "cell_type": "code",
   "execution_count": 37,
   "metadata": {},
   "outputs": [
    {
     "name": "stdout",
     "output_type": "stream",
     "text": [
      "진짜 약 차도 표본 평균: 0.548834046054764\n",
      "위약 차도 표본 평균: 0.22639857245528788\n"
     ]
    },
    {
     "data": {
      "image/png": "[encoded data removed]",
      "text/plain": [
       "<Figure size 640x480 with 1 Axes>"
      ]
     },
     "metadata": {},
     "output_type": "display_data"
    }
   ],
   "source": [
    "x = np.linspace(1, 6, 5)\n",
    "real = stats.uniform(0.4, 0.3).rvs(size=5)\n",
    "placebo = stats.uniform(0.1, 0.3).rvs(size=5)\n",
    "\n",
    "plt.plot(x, real)\n",
    "plt.plot(x, placebo)\n",
    "print(f\"진짜 약 차도 표본 평균: {real.mean()}\")\n",
    "print(f\"위약 차도 표본 평균: {placebo.mean()}\")"
   ]
  },
  {
   "cell_type": "code",
   "execution_count": 38,
   "metadata": {},
   "outputs": [
    {
     "name": "stdout",
     "output_type": "stream",
     "text": [
      "test statistics: 6.835260723388567, p-value: 0.0023964538465224227\n"
     ]
    }
   ],
   "source": [
    "test_stat, pv = stats.ttest_rel(real, placebo)\n",
    "print(f\"test statistics: {test_stat}, p-value: {pv}\")"
   ]
  },
  {
   "cell_type": "code",
   "execution_count": 39,
   "metadata": {},
   "outputs": [],
   "source": [
    "#이 신약이 효과가 있다고 할 근거가 충분하다."
   ]
  },
  {
   "cell_type": "markdown",
   "metadata": {},
   "source": [
    "### 상황 2. 중간고사 난이도"
   ]
  },
  {
   "cell_type": "markdown",
   "metadata": {},
   "source": [
    "서로 인접한 두 고등학교의 중간고사 난이도가 유사한지 판단하기 위해, 각 학교에서 10명씩을 골라 이번 수학시험 점수를 물어보았다.  \n",
    "이를 이용해 두 학교의 중간고사 난이도가 비슷했는지 통계적 방법으로 검정하시오."
   ]
  },
  {
   "cell_type": "code",
   "execution_count": 41,
   "metadata": {},
   "outputs": [],
   "source": [
    "#귀무 가설 (H0): 두 학교의 중간고사 평균이 서로 같다.\n",
    "#대립 가설 (H1): 두 학교의 중간고사 평균이 서로 다르다."
   ]
  },
  {
   "cell_type": "code",
   "execution_count": 42,
   "metadata": {},
   "outputs": [
    {
     "name": "stdout",
     "output_type": "stream",
     "text": [
      "A 학교 표본 평균: 65.00445081984944\n",
      "B 학교 표본 평균: 68.17571932484334\n"
     ]
    },
    {
     "data": {
      "image/png": "[encoded data removed]",
      "text/plain": [
       "<Figure size 640x480 with 1 Axes>"
      ]
     },
     "metadata": {},
     "output_type": "display_data"
    }
   ],
   "source": [
    "x = np.linspace(1, 11, 10)\n",
    "school_A = stats.uniform(65, 0.01).rvs(size=10)\n",
    "school_B = stats.uniform(63, 10).rvs(size=10)\n",
    "\n",
    "plt.plot(x, school_A)\n",
    "plt.plot(x, school_B)\n",
    "print(f\"A 학교 표본 평균: {school_A.mean()}\")\n",
    "print(f\"B 학교 표본 평균: {school_B.mean()}\")"
   ]
  },
  {
   "cell_type": "code",
   "execution_count": 43,
   "metadata": {},
   "outputs": [
    {
     "name": "stdout",
     "output_type": "stream",
     "text": [
      "test statistics: -3.119810718968638, p-value: 0.0059171273664318505\n"
     ]
    }
   ],
   "source": [
    "test_stat, pv = stats.ttest_ind(school_A, school_B)\n",
    "print(f\"test statistics: {test_stat}, p-value: {pv}\")"
   ]
  },
  {
   "cell_type": "code",
   "execution_count": 28,
   "metadata": {},
   "outputs": [],
   "source": [
    "#두 학교의 중간고사 난이도가 비슷하지 않았다고 할 근거가 충분하다."
   ]
  },
  {
   "cell_type": "code",
   "execution_count": null,
   "metadata": {},
   "outputs": [],
   "source": []
  }
 ],
 "metadata": {
  "kernelspec": {
   "display_name": "Python 3 (ipykernel)",
   "language": "python",
   "name": "python3"
  },
  "language_info": {
   "codemirror_mode": {
    "name": "ipython",
    "version": 3
   },
   "file_extension": ".py",
   "mimetype": "text/x-python",
   "name": "python",
   "nbconvert_exporter": "python",
   "pygments_lexer": "ipython3",
   "version": "3.11.4"
  }
 },
 "nbformat": 4,
 "nbformat_minor": 2
}
