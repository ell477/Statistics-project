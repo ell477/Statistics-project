{
 "cells": [
  {
   "cell_type": "code",
   "execution_count": 3,
   "metadata": {},
   "outputs": [],
   "source": [
    "import numpy as np\n",
    "import pandas as pd"
   ]
  },
  {
   "cell_type": "markdown",
   "metadata": {},
   "source": [
    "# 1회차 과제\n",
    "목표: NumPy와 Pandas를 활용한 데이터 탐구"
   ]
  },
  {
   "cell_type": "markdown",
   "metadata": {},
   "source": [
    "### csv 형태의 데이터 분석하기\n",
    "- `example_genome.CSV` 파일은 어떤 사람의 유전 정보를 담고 있다.\n",
    "- 이를 불러와 아래 질문에 답하시오."
   ]
  },
  {
   "cell_type": "code",
   "execution_count": 4,
   "metadata": {},
   "outputs": [],
   "source": [
    "# csv 데이터를 불러와 `genome` 변수에 DataFrame 형태로 저장하시오.\n",
    "genome = pd.read_csv('example_genome.CSV')"
   ]
  },
  {
   "cell_type": "code",
   "execution_count": 5,
   "metadata": {},
   "outputs": [
    {
     "name": "stdout",
     "output_type": "stream",
     "text": [
      "rsid          393\n",
      "chromosome    393\n",
      "position      393\n",
      "genotype      385\n",
      "dtype: int64\n"
     ]
    }
   ],
   "source": [
    "# 각 열의 데이터 개수는 몇 개인가?\n",
    "print(genome.count())"
   ]
  },
  {
   "cell_type": "code",
   "execution_count": 8,
   "metadata": {},
   "outputs": [
    {
     "name": "stdout",
     "output_type": "stream",
     "text": [
      "rsid          rs262669\n",
      "chromosome           1\n",
      "position       2072349\n",
      "genotype            AG\n",
      "Name: 279, dtype: object\n"
     ]
    }
   ],
   "source": [
    "# 280번째 행의 값은 무엇인가?\n",
    "print(genome.loc[279])"
   ]
  },
  {
   "cell_type": "code",
   "execution_count": 9,
   "metadata": {},
   "outputs": [
    {
     "name": "stdout",
     "output_type": "stream",
     "text": [
      "CG\n"
     ]
    }
   ],
   "source": [
    "# 345번째 행의 유전자형(genotype)은 무엇인가?\n",
    "print(genome.loc[344, 'genotype'])"
   ]
  },
  {
   "cell_type": "code",
   "execution_count": 32,
   "metadata": {},
   "outputs": [
    {
     "name": "stdout",
     "output_type": "stream",
     "text": [
      "rsid          rs2494428\n",
      "chromosome            1\n",
      "position        2328934\n",
      "genotype            NaN\n",
      "Name: 388, dtype: object\n"
     ]
    }
   ],
   "source": [
    "# rsid 값이 rs2494428인 행의 값은 무엇인가?\n",
    "#print(genome['rsid']=='rs2494428')\n",
    "print(genome.loc[388])"
   ]
  },
  {
   "cell_type": "code",
   "execution_count": null,
   "metadata": {},
   "outputs": [],
   "source": []
  }
 ],
 "metadata": {
  "kernelspec": {
   "display_name": "Python 3 (ipykernel)",
   "language": "python",
   "name": "python3"
  },
  "language_info": {
   "codemirror_mode": {
    "name": "ipython",
    "version": 3
   },
   "file_extension": ".py",
   "mimetype": "text/x-python",
   "name": "python",
   "nbconvert_exporter": "python",
   "pygments_lexer": "ipython3",
   "version": "3.11.4"
  }
 },
 "nbformat": 4,
 "nbformat_minor": 2
}
